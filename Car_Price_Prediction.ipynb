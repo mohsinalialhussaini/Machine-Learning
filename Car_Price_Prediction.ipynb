{
 "cells": [
  {
   "cell_type": "code",
   "execution_count": null,
   "metadata": {},
   "outputs": [],
   "source": []
  },
  {
   "cell_type": "code",
   "execution_count": 18,
   "metadata": {},
   "outputs": [],
   "source": [
    "import pandas as pd\n",
    "import matplotlib.pyplot as plt\n",
    "import numpy as np\n",
    "import math as m\n",
    "import seaborn as sns"
   ]
  },
  {
   "cell_type": "code",
   "execution_count": null,
   "metadata": {},
   "outputs": [],
   "source": []
  },
  {
   "cell_type": "code",
   "execution_count": 19,
   "metadata": {},
   "outputs": [
    {
     "data": {
      "text/html": [
       "<div>\n",
       "<style scoped>\n",
       "    .dataframe tbody tr th:only-of-type {\n",
       "        vertical-align: middle;\n",
       "    }\n",
       "\n",
       "    .dataframe tbody tr th {\n",
       "        vertical-align: top;\n",
       "    }\n",
       "\n",
       "    .dataframe thead th {\n",
       "        text-align: right;\n",
       "    }\n",
       "</style>\n",
       "<table border=\"1\" class=\"dataframe\">\n",
       "  <thead>\n",
       "    <tr style=\"text-align: right;\">\n",
       "      <th></th>\n",
       "      <th>Brand</th>\n",
       "      <th>Condition</th>\n",
       "      <th>Fuel</th>\n",
       "      <th>KMs_Driven</th>\n",
       "      <th>Model</th>\n",
       "      <th>Price</th>\n",
       "      <th>Registered_City</th>\n",
       "      <th>Transaction_Type</th>\n",
       "      <th>Year</th>\n",
       "    </tr>\n",
       "  </thead>\n",
       "  <tbody>\n",
       "    <tr>\n",
       "      <th>744</th>\n",
       "      <td>Honda</td>\n",
       "      <td>Used</td>\n",
       "      <td>CNG</td>\n",
       "      <td>588.0</td>\n",
       "      <td>City IDSI</td>\n",
       "      <td>380000</td>\n",
       "      <td>Karachi</td>\n",
       "      <td>Cash</td>\n",
       "      <td>1998.0</td>\n",
       "    </tr>\n",
       "  </tbody>\n",
       "</table>\n",
       "</div>"
      ],
      "text/plain": [
       "     Brand Condition Fuel  KMs_Driven      Model   Price Registered_City  \\\n",
       "744  Honda      Used  CNG       588.0  City IDSI  380000         Karachi   \n",
       "\n",
       "    Transaction_Type    Year  \n",
       "744             Cash  1998.0  "
      ]
     },
     "execution_count": 19,
     "metadata": {},
     "output_type": "execute_result"
    }
   ],
   "source": [
    "df = pd.read_excel('./OLX_Car_Data.xlsx')\n",
    "dff = df[:1000]\n",
    "dff.sample()"
   ]
  },
  {
   "cell_type": "code",
   "execution_count": null,
   "metadata": {},
   "outputs": [],
   "source": []
  },
  {
   "cell_type": "code",
   "execution_count": 20,
   "metadata": {},
   "outputs": [
    {
     "data": {
      "text/html": [
       "<div>\n",
       "<style scoped>\n",
       "    .dataframe tbody tr th:only-of-type {\n",
       "        vertical-align: middle;\n",
       "    }\n",
       "\n",
       "    .dataframe tbody tr th {\n",
       "        vertical-align: top;\n",
       "    }\n",
       "\n",
       "    .dataframe thead th {\n",
       "        text-align: right;\n",
       "    }\n",
       "</style>\n",
       "<table border=\"1\" class=\"dataframe\">\n",
       "  <thead>\n",
       "    <tr style=\"text-align: right;\">\n",
       "      <th></th>\n",
       "      <th>Brand</th>\n",
       "      <th>Condition</th>\n",
       "      <th>Fuel</th>\n",
       "      <th>KMs_Driven</th>\n",
       "      <th>Price</th>\n",
       "      <th>Year</th>\n",
       "    </tr>\n",
       "  </thead>\n",
       "  <tbody>\n",
       "    <tr>\n",
       "      <th>980</th>\n",
       "      <td>Suzuki</td>\n",
       "      <td>Used</td>\n",
       "      <td>CNG</td>\n",
       "      <td>10000.0</td>\n",
       "      <td>145000</td>\n",
       "      <td>1984.0</td>\n",
       "    </tr>\n",
       "    <tr>\n",
       "      <th>472</th>\n",
       "      <td>Suzuki</td>\n",
       "      <td>New</td>\n",
       "      <td>Petrol</td>\n",
       "      <td>52.0</td>\n",
       "      <td>505000</td>\n",
       "      <td>2014.0</td>\n",
       "    </tr>\n",
       "    <tr>\n",
       "      <th>722</th>\n",
       "      <td>Honda</td>\n",
       "      <td>Used</td>\n",
       "      <td>Petrol</td>\n",
       "      <td>100000.0</td>\n",
       "      <td>700000</td>\n",
       "      <td>2002.0</td>\n",
       "    </tr>\n",
       "    <tr>\n",
       "      <th>66</th>\n",
       "      <td>Suzuki</td>\n",
       "      <td>New</td>\n",
       "      <td>Petrol</td>\n",
       "      <td>36000.0</td>\n",
       "      <td>590000</td>\n",
       "      <td>2015.0</td>\n",
       "    </tr>\n",
       "    <tr>\n",
       "      <th>922</th>\n",
       "      <td>Toyota</td>\n",
       "      <td>Used</td>\n",
       "      <td>Diesel</td>\n",
       "      <td>23000.0</td>\n",
       "      <td>3900000</td>\n",
       "      <td>2017.0</td>\n",
       "    </tr>\n",
       "    <tr>\n",
       "      <th>965</th>\n",
       "      <td>Suzuki</td>\n",
       "      <td>New</td>\n",
       "      <td>Petrol</td>\n",
       "      <td>52500.0</td>\n",
       "      <td>615000</td>\n",
       "      <td>2017.0</td>\n",
       "    </tr>\n",
       "    <tr>\n",
       "      <th>230</th>\n",
       "      <td>Suzuki</td>\n",
       "      <td>Used</td>\n",
       "      <td>CNG</td>\n",
       "      <td>99000.0</td>\n",
       "      <td>315000</td>\n",
       "      <td>2007.0</td>\n",
       "    </tr>\n",
       "    <tr>\n",
       "      <th>244</th>\n",
       "      <td>Honda</td>\n",
       "      <td>Used</td>\n",
       "      <td>Petrol</td>\n",
       "      <td>126000.0</td>\n",
       "      <td>600000</td>\n",
       "      <td>2005.0</td>\n",
       "    </tr>\n",
       "    <tr>\n",
       "      <th>549</th>\n",
       "      <td>Daihatsu</td>\n",
       "      <td>Used</td>\n",
       "      <td>Petrol</td>\n",
       "      <td>67000.0</td>\n",
       "      <td>900000</td>\n",
       "      <td>2012.0</td>\n",
       "    </tr>\n",
       "    <tr>\n",
       "      <th>620</th>\n",
       "      <td>Daihatsu</td>\n",
       "      <td>Used</td>\n",
       "      <td>CNG</td>\n",
       "      <td>9999.0</td>\n",
       "      <td>210000</td>\n",
       "      <td>1986.0</td>\n",
       "    </tr>\n",
       "  </tbody>\n",
       "</table>\n",
       "</div>"
      ],
      "text/plain": [
       "        Brand Condition    Fuel  KMs_Driven    Price    Year\n",
       "980    Suzuki      Used     CNG     10000.0   145000  1984.0\n",
       "472    Suzuki       New  Petrol        52.0   505000  2014.0\n",
       "722     Honda      Used  Petrol    100000.0   700000  2002.0\n",
       "66     Suzuki       New  Petrol     36000.0   590000  2015.0\n",
       "922    Toyota      Used  Diesel     23000.0  3900000  2017.0\n",
       "965    Suzuki       New  Petrol     52500.0   615000  2017.0\n",
       "230    Suzuki      Used     CNG     99000.0   315000  2007.0\n",
       "244     Honda      Used  Petrol    126000.0   600000  2005.0\n",
       "549  Daihatsu      Used  Petrol     67000.0   900000  2012.0\n",
       "620  Daihatsu      Used     CNG      9999.0   210000  1986.0"
      ]
     },
     "execution_count": 20,
     "metadata": {},
     "output_type": "execute_result"
    }
   ],
   "source": [
    "columns = ['Registered_City','Transaction_Type','Model']\n",
    "dff.drop(columns, inplace=True, axis=1)\n",
    "dff.sample(10)"
   ]
  },
  {
   "cell_type": "code",
   "execution_count": null,
   "metadata": {},
   "outputs": [],
   "source": []
  },
  {
   "cell_type": "code",
   "execution_count": 21,
   "metadata": {},
   "outputs": [
    {
     "data": {
      "text/html": [
       "<div>\n",
       "<style scoped>\n",
       "    .dataframe tbody tr th:only-of-type {\n",
       "        vertical-align: middle;\n",
       "    }\n",
       "\n",
       "    .dataframe tbody tr th {\n",
       "        vertical-align: top;\n",
       "    }\n",
       "\n",
       "    .dataframe thead th {\n",
       "        text-align: right;\n",
       "    }\n",
       "</style>\n",
       "<table border=\"1\" class=\"dataframe\">\n",
       "  <thead>\n",
       "    <tr style=\"text-align: right;\">\n",
       "      <th></th>\n",
       "      <th>Brand</th>\n",
       "      <th>Condition</th>\n",
       "      <th>Fuel</th>\n",
       "      <th>KMs_Driven</th>\n",
       "      <th>Price</th>\n",
       "      <th>Year</th>\n",
       "    </tr>\n",
       "  </thead>\n",
       "  <tbody>\n",
       "    <tr>\n",
       "      <th>268</th>\n",
       "      <td>Nissan</td>\n",
       "      <td>Used</td>\n",
       "      <td>Petrol</td>\n",
       "      <td>44000.0</td>\n",
       "      <td>1120000</td>\n",
       "      <td>2015.0</td>\n",
       "    </tr>\n",
       "  </tbody>\n",
       "</table>\n",
       "</div>"
      ],
      "text/plain": [
       "      Brand Condition    Fuel  KMs_Driven    Price    Year\n",
       "268  Nissan      Used  Petrol     44000.0  1120000  2015.0"
      ]
     },
     "execution_count": 21,
     "metadata": {},
     "output_type": "execute_result"
    }
   ],
   "source": [
    "new_df=dff.dropna()\n",
    "new_df.sample()"
   ]
  },
  {
   "cell_type": "code",
   "execution_count": null,
   "metadata": {},
   "outputs": [],
   "source": [
    "new_df.Year = new_df.Year.apply(int)\n",
    "new_df.sample()"
   ]
  },
  {
   "cell_type": "code",
   "execution_count": 22,
   "metadata": {},
   "outputs": [
    {
     "data": {
      "text/html": [
       "<div>\n",
       "<style scoped>\n",
       "    .dataframe tbody tr th:only-of-type {\n",
       "        vertical-align: middle;\n",
       "    }\n",
       "\n",
       "    .dataframe tbody tr th {\n",
       "        vertical-align: top;\n",
       "    }\n",
       "\n",
       "    .dataframe thead th {\n",
       "        text-align: right;\n",
       "    }\n",
       "</style>\n",
       "<table border=\"1\" class=\"dataframe\">\n",
       "  <thead>\n",
       "    <tr style=\"text-align: right;\">\n",
       "      <th></th>\n",
       "      <th>Brand</th>\n",
       "      <th>Condition</th>\n",
       "      <th>Fuel</th>\n",
       "      <th>KMs_Driven</th>\n",
       "      <th>Price</th>\n",
       "      <th>Year</th>\n",
       "    </tr>\n",
       "  </thead>\n",
       "  <tbody>\n",
       "    <tr>\n",
       "      <th>700</th>\n",
       "      <td>Toyota</td>\n",
       "      <td>Used</td>\n",
       "      <td>Petrol</td>\n",
       "      <td>99999</td>\n",
       "      <td>1265000</td>\n",
       "      <td>2012.0</td>\n",
       "    </tr>\n",
       "  </tbody>\n",
       "</table>\n",
       "</div>"
      ],
      "text/plain": [
       "      Brand Condition    Fuel  KMs_Driven    Price    Year\n",
       "700  Toyota      Used  Petrol       99999  1265000  2012.0"
      ]
     },
     "execution_count": 22,
     "metadata": {},
     "output_type": "execute_result"
    }
   ],
   "source": [
    "new_df.KMs_Driven = new_df.KMs_Driven.apply(int)\n",
    "new_df.sample()"
   ]
  },
  {
   "cell_type": "code",
   "execution_count": null,
   "metadata": {},
   "outputs": [],
   "source": []
  },
  {
   "cell_type": "code",
   "execution_count": 23,
   "metadata": {},
   "outputs": [
    {
     "data": {
      "text/html": [
       "<div>\n",
       "<style scoped>\n",
       "    .dataframe tbody tr th:only-of-type {\n",
       "        vertical-align: middle;\n",
       "    }\n",
       "\n",
       "    .dataframe tbody tr th {\n",
       "        vertical-align: top;\n",
       "    }\n",
       "\n",
       "    .dataframe thead th {\n",
       "        text-align: right;\n",
       "    }\n",
       "</style>\n",
       "<table border=\"1\" class=\"dataframe\">\n",
       "  <thead>\n",
       "    <tr style=\"text-align: right;\">\n",
       "      <th></th>\n",
       "      <th>Brand</th>\n",
       "      <th>Condition</th>\n",
       "      <th>Fuel</th>\n",
       "      <th>KMs_Driven</th>\n",
       "      <th>Price</th>\n",
       "      <th>Year</th>\n",
       "    </tr>\n",
       "  </thead>\n",
       "  <tbody>\n",
       "    <tr>\n",
       "      <th>559</th>\n",
       "      <td>Suzuki</td>\n",
       "      <td>Used</td>\n",
       "      <td>Petrol</td>\n",
       "      <td>92793</td>\n",
       "      <td>750000</td>\n",
       "      <td>2011.0</td>\n",
       "    </tr>\n",
       "    <tr>\n",
       "      <th>854</th>\n",
       "      <td>Suzuki</td>\n",
       "      <td>Used</td>\n",
       "      <td>Petrol</td>\n",
       "      <td>19800</td>\n",
       "      <td>550000</td>\n",
       "      <td>2012.0</td>\n",
       "    </tr>\n",
       "    <tr>\n",
       "      <th>300</th>\n",
       "      <td>Suzuki</td>\n",
       "      <td>Used</td>\n",
       "      <td>CNG</td>\n",
       "      <td>74000</td>\n",
       "      <td>215000</td>\n",
       "      <td>1989.0</td>\n",
       "    </tr>\n",
       "    <tr>\n",
       "      <th>657</th>\n",
       "      <td>Honda</td>\n",
       "      <td>Used</td>\n",
       "      <td>Petrol</td>\n",
       "      <td>26000</td>\n",
       "      <td>1650000</td>\n",
       "      <td>2016.0</td>\n",
       "    </tr>\n",
       "    <tr>\n",
       "      <th>295</th>\n",
       "      <td>Toyota</td>\n",
       "      <td>Used</td>\n",
       "      <td>CNG</td>\n",
       "      <td>270000</td>\n",
       "      <td>950000</td>\n",
       "      <td>2006.0</td>\n",
       "    </tr>\n",
       "    <tr>\n",
       "      <th>685</th>\n",
       "      <td>Toyota</td>\n",
       "      <td>Used</td>\n",
       "      <td>Petrol</td>\n",
       "      <td>145500</td>\n",
       "      <td>725000</td>\n",
       "      <td>1999.0</td>\n",
       "    </tr>\n",
       "    <tr>\n",
       "      <th>952</th>\n",
       "      <td>Suzuki</td>\n",
       "      <td>Used</td>\n",
       "      <td>Petrol</td>\n",
       "      <td>9999</td>\n",
       "      <td>495000</td>\n",
       "      <td>2006.0</td>\n",
       "    </tr>\n",
       "    <tr>\n",
       "      <th>850</th>\n",
       "      <td>Suzuki</td>\n",
       "      <td>New</td>\n",
       "      <td>CNG</td>\n",
       "      <td>82685</td>\n",
       "      <td>499999</td>\n",
       "      <td>2008.0</td>\n",
       "    </tr>\n",
       "    <tr>\n",
       "      <th>120</th>\n",
       "      <td>Daihatsu</td>\n",
       "      <td>Used</td>\n",
       "      <td>CNG</td>\n",
       "      <td>100000</td>\n",
       "      <td>200000</td>\n",
       "      <td>1986.0</td>\n",
       "    </tr>\n",
       "    <tr>\n",
       "      <th>529</th>\n",
       "      <td>Daewoo</td>\n",
       "      <td>New</td>\n",
       "      <td>CNG</td>\n",
       "      <td>2550</td>\n",
       "      <td>160000</td>\n",
       "      <td>1996.0</td>\n",
       "    </tr>\n",
       "  </tbody>\n",
       "</table>\n",
       "</div>"
      ],
      "text/plain": [
       "        Brand Condition    Fuel  KMs_Driven    Price    Year\n",
       "559    Suzuki      Used  Petrol       92793   750000  2011.0\n",
       "854    Suzuki      Used  Petrol       19800   550000  2012.0\n",
       "300    Suzuki      Used     CNG       74000   215000  1989.0\n",
       "657     Honda      Used  Petrol       26000  1650000  2016.0\n",
       "295    Toyota      Used     CNG      270000   950000  2006.0\n",
       "685    Toyota      Used  Petrol      145500   725000  1999.0\n",
       "952    Suzuki      Used  Petrol        9999   495000  2006.0\n",
       "850    Suzuki       New     CNG       82685   499999  2008.0\n",
       "120  Daihatsu      Used     CNG      100000   200000  1986.0\n",
       "529    Daewoo       New     CNG        2550   160000  1996.0"
      ]
     },
     "execution_count": 23,
     "metadata": {},
     "output_type": "execute_result"
    }
   ],
   "source": [
    "new_df.reset_index(drop=True)\n",
    "new_df.sample(10)"
   ]
  },
  {
   "cell_type": "code",
   "execution_count": null,
   "metadata": {},
   "outputs": [],
   "source": []
  },
  {
   "cell_type": "code",
   "execution_count": 24,
   "metadata": {},
   "outputs": [
    {
     "data": {
      "text/html": [
       "<div>\n",
       "<style scoped>\n",
       "    .dataframe tbody tr th:only-of-type {\n",
       "        vertical-align: middle;\n",
       "    }\n",
       "\n",
       "    .dataframe tbody tr th {\n",
       "        vertical-align: top;\n",
       "    }\n",
       "\n",
       "    .dataframe thead th {\n",
       "        text-align: right;\n",
       "    }\n",
       "</style>\n",
       "<table border=\"1\" class=\"dataframe\">\n",
       "  <thead>\n",
       "    <tr style=\"text-align: right;\">\n",
       "      <th></th>\n",
       "      <th>Brand</th>\n",
       "      <th>Condition</th>\n",
       "      <th>Fuel</th>\n",
       "      <th>KMs_Driven</th>\n",
       "      <th>Price</th>\n",
       "      <th>Year</th>\n",
       "      <th>T_Condition</th>\n",
       "    </tr>\n",
       "  </thead>\n",
       "  <tbody>\n",
       "    <tr>\n",
       "      <th>149</th>\n",
       "      <td>Suzuki</td>\n",
       "      <td>New</td>\n",
       "      <td>Petrol</td>\n",
       "      <td>1</td>\n",
       "      <td>1150000</td>\n",
       "      <td>2008.0</td>\n",
       "      <td>1</td>\n",
       "    </tr>\n",
       "  </tbody>\n",
       "</table>\n",
       "</div>"
      ],
      "text/plain": [
       "      Brand Condition    Fuel  KMs_Driven    Price    Year  T_Condition\n",
       "149  Suzuki       New  Petrol           1  1150000  2008.0            1"
      ]
     },
     "execution_count": 24,
     "metadata": {},
     "output_type": "execute_result"
    }
   ],
   "source": [
    "def trans_Condition(x):\n",
    "    if x=='New':\n",
    "        return 1\n",
    "    if x=='Used':\n",
    "        return 2\n",
    "    \n",
    "new_df['T_Condition']=new_df['Condition'].apply(trans_Condition)\n",
    "new_df.sample()"
   ]
  },
  {
   "cell_type": "code",
   "execution_count": null,
   "metadata": {},
   "outputs": [],
   "source": []
  },
  {
   "cell_type": "code",
   "execution_count": 25,
   "metadata": {},
   "outputs": [
    {
     "data": {
      "text/html": [
       "<div>\n",
       "<style scoped>\n",
       "    .dataframe tbody tr th:only-of-type {\n",
       "        vertical-align: middle;\n",
       "    }\n",
       "\n",
       "    .dataframe tbody tr th {\n",
       "        vertical-align: top;\n",
       "    }\n",
       "\n",
       "    .dataframe thead th {\n",
       "        text-align: right;\n",
       "    }\n",
       "</style>\n",
       "<table border=\"1\" class=\"dataframe\">\n",
       "  <thead>\n",
       "    <tr style=\"text-align: right;\">\n",
       "      <th></th>\n",
       "      <th>Brand</th>\n",
       "      <th>Condition</th>\n",
       "      <th>Fuel</th>\n",
       "      <th>KMs_Driven</th>\n",
       "      <th>Price</th>\n",
       "      <th>Year</th>\n",
       "      <th>T_Condition</th>\n",
       "      <th>T_Fuel</th>\n",
       "    </tr>\n",
       "  </thead>\n",
       "  <tbody>\n",
       "    <tr>\n",
       "      <th>953</th>\n",
       "      <td>Toyota</td>\n",
       "      <td>Used</td>\n",
       "      <td>Diesel</td>\n",
       "      <td>63000</td>\n",
       "      <td>1650000</td>\n",
       "      <td>2015.0</td>\n",
       "      <td>2</td>\n",
       "      <td>2</td>\n",
       "    </tr>\n",
       "  </tbody>\n",
       "</table>\n",
       "</div>"
      ],
      "text/plain": [
       "      Brand Condition    Fuel  KMs_Driven    Price    Year  T_Condition  \\\n",
       "953  Toyota      Used  Diesel       63000  1650000  2015.0            2   \n",
       "\n",
       "     T_Fuel  \n",
       "953       2  "
      ]
     },
     "execution_count": 25,
     "metadata": {},
     "output_type": "execute_result"
    }
   ],
   "source": [
    "def trans_Fuel(x):\n",
    "    if x=='CNG':\n",
    "        return 1\n",
    "    if x=='Diesel':\n",
    "        return 2\n",
    "    if x=='Hybrid':\n",
    "        return 3\n",
    "    if x=='LPG':\n",
    "        return 4\n",
    "    if x=='Petrol':\n",
    "        return 5\n",
    "    \n",
    "new_df['T_Fuel']=new_df['Fuel'].apply(trans_Fuel)\n",
    "new_df.sample()"
   ]
  },
  {
   "cell_type": "code",
   "execution_count": null,
   "metadata": {},
   "outputs": [],
   "source": []
  },
  {
   "cell_type": "code",
   "execution_count": 26,
   "metadata": {},
   "outputs": [
    {
     "data": {
      "text/html": [
       "<div>\n",
       "<style scoped>\n",
       "    .dataframe tbody tr th:only-of-type {\n",
       "        vertical-align: middle;\n",
       "    }\n",
       "\n",
       "    .dataframe tbody tr th {\n",
       "        vertical-align: top;\n",
       "    }\n",
       "\n",
       "    .dataframe thead th {\n",
       "        text-align: right;\n",
       "    }\n",
       "</style>\n",
       "<table border=\"1\" class=\"dataframe\">\n",
       "  <thead>\n",
       "    <tr style=\"text-align: right;\">\n",
       "      <th></th>\n",
       "      <th>Brand</th>\n",
       "      <th>Condition</th>\n",
       "      <th>Fuel</th>\n",
       "      <th>KMs_Driven</th>\n",
       "      <th>Price</th>\n",
       "      <th>Year</th>\n",
       "      <th>T_Condition</th>\n",
       "      <th>T_Fuel</th>\n",
       "      <th>T_Brand</th>\n",
       "    </tr>\n",
       "  </thead>\n",
       "  <tbody>\n",
       "    <tr>\n",
       "      <th>733</th>\n",
       "      <td>Chevrolet</td>\n",
       "      <td>New</td>\n",
       "      <td>Petrol</td>\n",
       "      <td>80000</td>\n",
       "      <td>350000</td>\n",
       "      <td>2005.0</td>\n",
       "      <td>1</td>\n",
       "      <td>5</td>\n",
       "      <td>14</td>\n",
       "    </tr>\n",
       "  </tbody>\n",
       "</table>\n",
       "</div>"
      ],
      "text/plain": [
       "         Brand Condition    Fuel  KMs_Driven   Price    Year  T_Condition  \\\n",
       "733  Chevrolet       New  Petrol       80000  350000  2005.0            1   \n",
       "\n",
       "     T_Fuel  T_Brand  \n",
       "733       5       14  "
      ]
     },
     "execution_count": 26,
     "metadata": {},
     "output_type": "execute_result"
    }
   ],
   "source": [
    "def trans_Brand(x):\n",
    "    if x=='Suzuki':\n",
    "        return 1\n",
    "    if x=='Toyota':\n",
    "        return 2\n",
    "    if x=='Honda':\n",
    "        return 3\n",
    "    if x=='Daihatsu':\n",
    "        return 4\n",
    "    if x=='Nissan':\n",
    "        return 5\n",
    "    if x=='Mitsubishi':\n",
    "        return 6\n",
    "    if x=='Hyundai':\n",
    "        return 7\n",
    "    if x=='Other Brands':\n",
    "        return 8\n",
    "    if x=='KIA':\n",
    "        return 9\n",
    "    if x=='Mazda':\n",
    "        return 10\n",
    "    if x=='Mercedes':\n",
    "        return 11\n",
    "    if x=='FAW':\n",
    "        return 12\n",
    "    if x=='Daewoo':\n",
    "        return 13\n",
    "    if x=='Chevrolet':\n",
    "        return 14\n",
    "    if x=='BMW':\n",
    "        return 15\n",
    "    if x=='Lexus':\n",
    "        return 16\n",
    "    if x=='Subaru':\n",
    "        return 17\n",
    "    if x=='Audi':\n",
    "        return 18\n",
    "    if x=='Classic & Antiques':\n",
    "        return 19\n",
    "    if x=='Changan':\n",
    "        return 20\n",
    "    if x=='Range Rover':\n",
    "        return 21\n",
    "    if x=='Porsche':\n",
    "        return 22\n",
    "    if x=='Land Rover':\n",
    "        return 23\n",
    "    \n",
    "new_df['T_Brand']=new_df['Brand'].apply(trans_Brand)\n",
    "new_df.sample()"
   ]
  },
  {
   "cell_type": "code",
   "execution_count": 27,
   "metadata": {},
   "outputs": [
    {
     "name": "stdout",
     "output_type": "stream",
     "text": [
      "Brand           object\n",
      "Condition       object\n",
      "Fuel            object\n",
      "KMs_Driven       int64\n",
      "Price            int64\n",
      "Year           float64\n",
      "T_Condition      int64\n",
      "T_Fuel           int64\n",
      "T_Brand          int64\n",
      "dtype: object\n"
     ]
    }
   ],
   "source": [
    "print(new_df.dtypes)"
   ]
  },
  {
   "cell_type": "code",
   "execution_count": 28,
   "metadata": {},
   "outputs": [
    {
     "data": {
      "text/html": [
       "<div>\n",
       "<style scoped>\n",
       "    .dataframe tbody tr th:only-of-type {\n",
       "        vertical-align: middle;\n",
       "    }\n",
       "\n",
       "    .dataframe tbody tr th {\n",
       "        vertical-align: top;\n",
       "    }\n",
       "\n",
       "    .dataframe thead th {\n",
       "        text-align: right;\n",
       "    }\n",
       "</style>\n",
       "<table border=\"1\" class=\"dataframe\">\n",
       "  <thead>\n",
       "    <tr style=\"text-align: right;\">\n",
       "      <th></th>\n",
       "      <th>KMs_Driven</th>\n",
       "      <th>Price</th>\n",
       "      <th>Year</th>\n",
       "      <th>T_Condition</th>\n",
       "      <th>T_Fuel</th>\n",
       "      <th>T_Brand</th>\n",
       "    </tr>\n",
       "  </thead>\n",
       "  <tbody>\n",
       "    <tr>\n",
       "      <th>734</th>\n",
       "      <td>81000</td>\n",
       "      <td>880000</td>\n",
       "      <td>2004.0</td>\n",
       "      <td>2</td>\n",
       "      <td>5</td>\n",
       "      <td>3</td>\n",
       "    </tr>\n",
       "    <tr>\n",
       "      <th>151</th>\n",
       "      <td>6000000</td>\n",
       "      <td>220000</td>\n",
       "      <td>1991.0</td>\n",
       "      <td>2</td>\n",
       "      <td>1</td>\n",
       "      <td>5</td>\n",
       "    </tr>\n",
       "    <tr>\n",
       "      <th>315</th>\n",
       "      <td>52000</td>\n",
       "      <td>280000</td>\n",
       "      <td>1998.0</td>\n",
       "      <td>2</td>\n",
       "      <td>5</td>\n",
       "      <td>1</td>\n",
       "    </tr>\n",
       "    <tr>\n",
       "      <th>698</th>\n",
       "      <td>1</td>\n",
       "      <td>380000</td>\n",
       "      <td>2003.0</td>\n",
       "      <td>2</td>\n",
       "      <td>1</td>\n",
       "      <td>4</td>\n",
       "    </tr>\n",
       "    <tr>\n",
       "      <th>188</th>\n",
       "      <td>120000</td>\n",
       "      <td>2000000</td>\n",
       "      <td>2014.0</td>\n",
       "      <td>2</td>\n",
       "      <td>3</td>\n",
       "      <td>2</td>\n",
       "    </tr>\n",
       "    <tr>\n",
       "      <th>777</th>\n",
       "      <td>142000</td>\n",
       "      <td>530000</td>\n",
       "      <td>1998.0</td>\n",
       "      <td>2</td>\n",
       "      <td>5</td>\n",
       "      <td>3</td>\n",
       "    </tr>\n",
       "    <tr>\n",
       "      <th>750</th>\n",
       "      <td>580000</td>\n",
       "      <td>1560000</td>\n",
       "      <td>2012.0</td>\n",
       "      <td>2</td>\n",
       "      <td>3</td>\n",
       "      <td>2</td>\n",
       "    </tr>\n",
       "    <tr>\n",
       "      <th>617</th>\n",
       "      <td>160000</td>\n",
       "      <td>750000</td>\n",
       "      <td>2008.0</td>\n",
       "      <td>2</td>\n",
       "      <td>5</td>\n",
       "      <td>4</td>\n",
       "    </tr>\n",
       "    <tr>\n",
       "      <th>104</th>\n",
       "      <td>1991</td>\n",
       "      <td>1150000</td>\n",
       "      <td>1991.0</td>\n",
       "      <td>2</td>\n",
       "      <td>5</td>\n",
       "      <td>2</td>\n",
       "    </tr>\n",
       "    <tr>\n",
       "      <th>385</th>\n",
       "      <td>42500</td>\n",
       "      <td>1025000</td>\n",
       "      <td>2016.0</td>\n",
       "      <td>2</td>\n",
       "      <td>5</td>\n",
       "      <td>1</td>\n",
       "    </tr>\n",
       "  </tbody>\n",
       "</table>\n",
       "</div>"
      ],
      "text/plain": [
       "     KMs_Driven    Price    Year  T_Condition  T_Fuel  T_Brand\n",
       "734       81000   880000  2004.0            2       5        3\n",
       "151     6000000   220000  1991.0            2       1        5\n",
       "315       52000   280000  1998.0            2       5        1\n",
       "698           1   380000  2003.0            2       1        4\n",
       "188      120000  2000000  2014.0            2       3        2\n",
       "777      142000   530000  1998.0            2       5        3\n",
       "750      580000  1560000  2012.0            2       3        2\n",
       "617      160000   750000  2008.0            2       5        4\n",
       "104        1991  1150000  1991.0            2       5        2\n",
       "385       42500  1025000  2016.0            2       5        1"
      ]
     },
     "execution_count": 28,
     "metadata": {},
     "output_type": "execute_result"
    }
   ],
   "source": [
    "new_df = new_df.drop('Brand', axis=1)\n",
    "new_df = new_df.drop('Condition', axis=1)\n",
    "new_df = new_df.drop('Fuel', axis=1)\n",
    "new_df.sample(10)"
   ]
  },
  {
   "cell_type": "code",
   "execution_count": 47,
   "metadata": {},
   "outputs": [
    {
     "data": {
      "text/plain": [
       "<seaborn.axisgrid.PairGrid at 0x2ad3b272a58>"
      ]
     },
     "execution_count": 47,
     "metadata": {},
     "output_type": "execute_result"
    },
    {
     "data": {
      "image/png": "[encoded data removed]",
      "text/plain": [
       "<Figure size 1080x1080 with 42 Axes>"
      ]
     },
     "metadata": {
      "needs_background": "light"
     },
     "output_type": "display_data"
    }
   ],
   "source": [
    "sns.pairplot(new_df)"
   ]
  },
  {
   "cell_type": "code",
   "execution_count": 48,
   "metadata": {},
   "outputs": [
    {
     "data": {
      "text/plain": [
       "<matplotlib.axes._subplots.AxesSubplot at 0x2ad3dc2ee80>"
      ]
     },
     "execution_count": 48,
     "metadata": {},
     "output_type": "execute_result"
    },
    {
     "data": {
      "text/plain": [
       "<Figure size 720x720 with 0 Axes>"
      ]
     },
     "metadata": {},
     "output_type": "display_data"
    },
    {
     "data": {
      "image/png": "[encoded data removed]",
      "text/plain": [
       "<Figure size 432x288 with 1 Axes>"
      ]
     },
     "metadata": {
      "needs_background": "light"
     },
     "output_type": "display_data"
    }
   ],
   "source": [
    "plt.figure(figsize=(10,10))\n",
    "new_df.plot()"
   ]
  },
  {
   "cell_type": "code",
   "execution_count": null,
   "metadata": {},
   "outputs": [],
   "source": []
  },
  {
   "cell_type": "code",
   "execution_count": 49,
   "metadata": {},
   "outputs": [],
   "source": [
    "xValues = new_df.drop('Price', axis=1).values\n",
    "yValues = new_df['Price'].values"
   ]
  },
  {
   "cell_type": "code",
   "execution_count": null,
   "metadata": {},
   "outputs": [],
   "source": []
  },
  {
   "cell_type": "code",
   "execution_count": 50,
   "metadata": {},
   "outputs": [],
   "source": [
    "length = len(xValues)//6\n",
    "x_train,x_test = np.split(xValues,[(length*5)],axis=0)\n",
    "y_train,y_test = np.split(yValues,[(length*5)],axis=0)"
   ]
  },
  {
   "cell_type": "markdown",
   "metadata": {},
   "source": [
    "# Apply Gradient Descent And Cost Functions"
   ]
  },
  {
   "cell_type": "code",
   "execution_count": 51,
   "metadata": {},
   "outputs": [],
   "source": [
    "def gradientDescent(x,y,iteration,learn):\n",
    "    c11 = 0\n",
    "    c12 = 0\n",
    "    c13 = 0\n",
    "    c14 = 0\n",
    "    c15 = 0\n",
    "    c10 = 1    \n",
    "    n = len(x)\n",
    "    \n",
    "    for i in range(iteration):\n",
    "        y_pred = c11*x[:,0] +  c12*x[:,1] + c13*x[:,2] + c14*x[:,3] + c15*x[:,4] + c10\n",
    "        cost = (1/n)*sum([val**2 for val in (y-y_pred)])\n",
    "        \n",
    "        c1 = (-2/n) * sum(x[:,0] * (y - y_pred))\n",
    "        c2 = (-2/n) * sum(x[:,1] * (y - y_pred))\n",
    "        c3 = (-2/n) * sum(x[:,2] * (y - y_pred))\n",
    "        c4 = (-2/n) * sum(x[:,3] * (y - y_pred))\n",
    "        c5 = (-2/n) * sum(x[:,4] * (y - y_pred))\n",
    "        c0 = (-2/n) * sum(y - y_pred)\n",
    "        \n",
    "        c11 = c11 - learn * c1\n",
    "        c12 = c12 - learn * c2\n",
    "        c13 = c13 - learn * c3\n",
    "        c14 = c14 - learn * c4\n",
    "        c15 = c15 - learn * c5\n",
    "        c10 = c10 - learn * c0\n",
    "        \n",
    "    return c11,c12,c13,c14,c15,c10"
   ]
  },
  {
   "cell_type": "code",
   "execution_count": null,
   "metadata": {},
   "outputs": [],
   "source": []
  },
  {
   "cell_type": "code",
   "execution_count": 52,
   "metadata": {},
   "outputs": [
    {
     "name": "stdout",
     "output_type": "stream",
     "text": [
      "0.25362803223323893 30.654150814030366 0.026893303625902844 0.0622537155482739 0.03820430616199178 1.0152530445418069\n"
     ]
    },
    {
     "data": {
      "image/png": "[encoded data removed]",
      "text/plain": [
       "<Figure size 432x288 with 1 Axes>"
      ]
     },
     "metadata": {
      "needs_background": "light"
     },
     "output_type": "display_data"
    }
   ],
   "source": [
    "m1,m2,m3,m4,m5,c = gradientDescent(x_train, y_train,10000,0.000000000001)\n",
    "print(m1,m2,m3,m4,m5,c)\n",
    "y_pred = m1*x_train[:,0] + m2*x_train[:,1] + m3*x_train[:,2] + m4*x_train[:,3] + m5*x_train[:,4] + c\n",
    "plt.scatter(x_train[:,0],y_train)\n",
    "plt.scatter(x_train[:,0],y_pred)\n",
    "plt.show()"
   ]
  },
  {
   "cell_type": "code",
   "execution_count": 53,
   "metadata": {},
   "outputs": [
    {
     "name": "stdout",
     "output_type": "stream",
     "text": [
      "0.25362803223323893 30.654150814030366 0.026893303625902844 0.0622537155482739 0.03820430616199178 1.0152530445418069\n"
     ]
    },
    {
     "data": {
      "image/png": "[encoded data removed]",
      "text/plain": [
       "<Figure size 432x288 with 1 Axes>"
      ]
     },
     "metadata": {
      "needs_background": "light"
     },
     "output_type": "display_data"
    }
   ],
   "source": [
    "m1,m2,m3,m4,m5,c = gradientDescent(x_train, y_train,10000,0.000000000001)\n",
    "print(m1,m2,m3,m4,m5,c)\n",
    "y_pred = m1*x_train[:,1] + m2*x_train[:,1] + m3*x_train[:,2] + m4*x_train[:,3] + m5*x_train[:,4] + c\n",
    "plt.scatter(x_train[:,1],y_train)\n",
    "plt.scatter(x_train[:,1],y_pred)\n",
    "plt.show()"
   ]
  },
  {
   "cell_type": "code",
   "execution_count": 54,
   "metadata": {},
   "outputs": [
    {
     "name": "stdout",
     "output_type": "stream",
     "text": [
      "0.25362803223323893 30.654150814030366 0.026893303625902844 0.0622537155482739 0.03820430616199178 1.0152530445418069\n"
     ]
    },
    {
     "data": {
      "image/png": "[encoded data removed]",
      "text/plain": [
       "<Figure size 432x288 with 1 Axes>"
      ]
     },
     "metadata": {
      "needs_background": "light"
     },
     "output_type": "display_data"
    }
   ],
   "source": [
    "m1,m2,m3,m4,m5,c = gradientDescent(x_train, y_train,10000,0.000000000001)\n",
    "print(m1,m2,m3,m4,m5,c)\n",
    "y_pred = m1*x_train[:,2] + m2*x_train[:,1] + m3*x_train[:,2] + m4*x_train[:,3] + m5*x_train[:,4] + c\n",
    "plt.scatter(x_train[:,2],y_train)\n",
    "plt.scatter(x_train[:,2],y_pred)\n",
    "plt.show()"
   ]
  },
  {
   "cell_type": "code",
   "execution_count": 55,
   "metadata": {},
   "outputs": [
    {
     "name": "stdout",
     "output_type": "stream",
     "text": [
      "0.25362803223323893 30.654150814030366 0.026893303625902844 0.0622537155482739 0.03820430616199178 1.0152530445418069\n"
     ]
    },
    {
     "data": {
      "image/png": "[encoded data removed]",
      "text/plain": [
       "<Figure size 432x288 with 1 Axes>"
      ]
     },
     "metadata": {
      "needs_background": "light"
     },
     "output_type": "display_data"
    }
   ],
   "source": [
    "m1,m2,m3,m4,m5,c = gradientDescent(x_train, y_train,10000,0.000000000001)\n",
    "print(m1,m2,m3,m4,m5,c)\n",
    "y_pred = m1*x_train[:,3] + m2*x_train[:,1] + m3*x_train[:,2] + m4*x_train[:,3] + m5*x_train[:,4] + c\n",
    "plt.scatter(x_train[:,3],y_train)\n",
    "plt.scatter(x_train[:,3],y_pred)\n",
    "plt.show()"
   ]
  },
  {
   "cell_type": "code",
   "execution_count": 56,
   "metadata": {},
   "outputs": [
    {
     "name": "stdout",
     "output_type": "stream",
     "text": [
      "0.25362803223323893 30.654150814030366 0.026893303625902844 0.0622537155482739 0.03820430616199178 1.0152530445418069\n"
     ]
    },
    {
     "data": {
      "image/png": "[encoded data removed]",
      "text/plain": [
       "<Figure size 432x288 with 1 Axes>"
      ]
     },
     "metadata": {
      "needs_background": "light"
     },
     "output_type": "display_data"
    }
   ],
   "source": [
    "m1,m2,m3,m4,m5,c = gradientDescent(x_train, y_train,10000,0.000000000001)\n",
    "print(m1,m2,m3,m4,m5,c)\n",
    "y_pred = m1*x_train[:,4] + m2*x_train[:,1] + m3*x_train[:,2] + m4*x_train[:,3] + m5*x_train[:,4] + c\n",
    "plt.scatter(x_train[:,4],y_train)\n",
    "plt.scatter(x_train[:,4],y_pred)\n",
    "plt.show()"
   ]
  },
  {
   "cell_type": "code",
   "execution_count": null,
   "metadata": {},
   "outputs": [],
   "source": []
  },
  {
   "cell_type": "code",
   "execution_count": null,
   "metadata": {},
   "outputs": [],
   "source": []
  }
 ],
 "metadata": {
  "kernelspec": {
   "display_name": "Python 3",
   "language": "python",
   "name": "python3"
  },
  "language_info": {
   "codemirror_mode": {
    "name": "ipython",
    "version": 3
   },
   "file_extension": ".py",
   "mimetype": "text/x-python",
   "name": "python",
   "nbconvert_exporter": "python",
   "pygments_lexer": "ipython3",
   "version": "3.7.3"
  }
 },
 "nbformat": 4,
 "nbformat_minor": 2
}
